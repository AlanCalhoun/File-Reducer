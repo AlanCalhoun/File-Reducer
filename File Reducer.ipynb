{
 "cells": [
  {
   "cell_type": "code",
   "execution_count": null,
   "id": "6cb45a51",
   "metadata": {},
   "outputs": [],
   "source": [
    "#Install if needed\n",
    "!pip install pandas"
   ]
  },
  {
   "cell_type": "code",
   "execution_count": null,
   "id": "7c7b5a7b",
   "metadata": {},
   "outputs": [],
   "source": [
    "#Import\n",
    "import pandas as pd"
   ]
  },
  {
   "cell_type": "code",
   "execution_count": null,
   "id": "ce3291f9",
   "metadata": {},
   "outputs": [],
   "source": [
    "start_date = '1/1/2021' #Date to filter on or after\n",
    "\n",
    "files = {\n",
    "    'C:\\Folder\\Form Status.csv':'Date - Last Modified', #path to csv:column with date to filter\n",
    "    'C:\\Folder\\Payment.csv':'Date - Transaction',\n",
    "    'C:\\Folder\\Appointment.csv':'Appointment Date',\n",
    "    'C:\\Folder\\Progress Note.csv':'Date Of Service',\n",
    "    'C:\\Folder\\Visit.csv':'Date Of Service',\n",
    "    'C:\\Folder\\Billing.csv':'Bill Date'\n",
    "}\n",
    "\n",
    "for file_path in files:\n",
    "    print(f'Filtering {file_path}')\n",
    "    date_column = files[file_path]\n",
    "    df = pd.read_csv(file_path, index_col=False, low_memory=False)\n",
    "    df[date_column] = pd.to_datetime(df[date_column])\n",
    "    df = df[(df[date_column] >= start_date)] #on or after set here\n",
    "    df.to_csv(file_path, index=False)\n",
    "\n",
    "input('Press return to exit...')"
   ]
  }
 ],
 "metadata": {
  "kernelspec": {
   "display_name": "Python 3 (ipykernel)",
   "language": "python",
   "name": "python3"
  },
  "language_info": {
   "codemirror_mode": {
    "name": "ipython",
    "version": 3
   },
   "file_extension": ".py",
   "mimetype": "text/x-python",
   "name": "python",
   "nbconvert_exporter": "python",
   "pygments_lexer": "ipython3",
   "version": "3.9.7"
  }
 },
 "nbformat": 4,
 "nbformat_minor": 5
}
